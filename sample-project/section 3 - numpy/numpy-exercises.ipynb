{
 "cells": [
  {
   "cell_type": "markdown",
   "metadata": {},
   "source": [
    "# NumPy Practice\n",
    "\n",
    "This notebook offers a set of exercises for different tasks with NumPy.\n",
    "\n",
    "It should be noted there may be more than one different way to answer a question or complete an exercise.\n",
    "\n",
    "Exercises are based off (and directly taken from) the quick introduction to NumPy notebook.\n",
    "\n",
    "Different tasks will be detailed by comments or text.\n",
    "\n",
    "For further reference and resources, it's advised to check out the [NumPy documentation](https://numpy.org/devdocs/user/index.html).\n",
    "\n",
    "And if you get stuck, try searching for a question in the following format: \"how to do XYZ with numpy\", where XYZ is the function you want to leverage from NumPy."
   ]
  },
  {
   "cell_type": "code",
   "execution_count": 1,
   "metadata": {},
   "outputs": [],
   "source": [
    "# Import NumPy as its abbreviation 'np'\n",
    "import numpy as np"
   ]
  },
  {
   "cell_type": "code",
   "execution_count": 12,
   "metadata": {},
   "outputs": [],
   "source": [
    "# Create a 1-dimensional NumPy array using np.array()\n",
    "arr1d = np.array([1,2,3])\n",
    "\n",
    "# Create a 2-dimensional NumPy array using np.array()\n",
    "arr2d = np.array([\n",
    "    [1,2,3],\n",
    "    [4,5,6]\n",
    "])\n",
    "\n",
    "# Create a 3-dimensional Numpy array using np.array()\n",
    "arr3d = np.array([\n",
    "   [\n",
    "       [1,2,3],\n",
    "       [4,5,6]\n",
    "   ],\n",
    "    [\n",
    "        [7,8,9],\n",
    "        [10,11,12]\n",
    "    ]\n",
    "])"
   ]
  },
  {
   "cell_type": "markdown",
   "metadata": {},
   "source": [
    "Now we've you've created 3 different arrays, let's find details about them.\n",
    "\n",
    "Find the shape, number of dimensions, data type, size and type of each array."
   ]
  },
  {
   "cell_type": "code",
   "execution_count": 13,
   "metadata": {},
   "outputs": [
    {
     "data": {
      "text/plain": [
       "((3,), 1, dtype('int32'), 3, numpy.ndarray)"
      ]
     },
     "execution_count": 13,
     "metadata": {},
     "output_type": "execute_result"
    }
   ],
   "source": [
    "# Attributes of 1-dimensional array (shape, \n",
    "# number of dimensions, data type, size and type)\n",
    "arr1d.shape,arr1d.ndim,arr1d.dtype,arr1d.size,type(arr1d)"
   ]
  },
  {
   "cell_type": "code",
   "execution_count": 14,
   "metadata": {},
   "outputs": [
    {
     "data": {
      "text/plain": [
       "((2, 3), 2, dtype('int32'), 6, numpy.ndarray)"
      ]
     },
     "execution_count": 14,
     "metadata": {},
     "output_type": "execute_result"
    }
   ],
   "source": [
    "# Attributes of 2-dimensional array\n",
    "arr2d.shape,arr2d.ndim,arr2d.dtype,arr2d.size,type(arr1d)"
   ]
  },
  {
   "cell_type": "code",
   "execution_count": 15,
   "metadata": {},
   "outputs": [
    {
     "data": {
      "text/plain": [
       "((2, 2, 3), 3, dtype('int32'), 12, numpy.ndarray)"
      ]
     },
     "execution_count": 15,
     "metadata": {},
     "output_type": "execute_result"
    }
   ],
   "source": [
    "# Attributes of 3-dimensional array\n",
    "arr3d.shape,arr3d.ndim,arr3d.dtype,arr3d.size,type(arr1d)"
   ]
  },
  {
   "cell_type": "code",
   "execution_count": 17,
   "metadata": {},
   "outputs": [
    {
     "data": {
      "text/html": [
       "<div>\n",
       "<style scoped>\n",
       "    .dataframe tbody tr th:only-of-type {\n",
       "        vertical-align: middle;\n",
       "    }\n",
       "\n",
       "    .dataframe tbody tr th {\n",
       "        vertical-align: top;\n",
       "    }\n",
       "\n",
       "    .dataframe thead th {\n",
       "        text-align: right;\n",
       "    }\n",
       "</style>\n",
       "<table border=\"1\" class=\"dataframe\">\n",
       "  <thead>\n",
       "    <tr style=\"text-align: right;\">\n",
       "      <th></th>\n",
       "      <th>0</th>\n",
       "    </tr>\n",
       "  </thead>\n",
       "  <tbody>\n",
       "    <tr>\n",
       "      <th>0</th>\n",
       "      <td>1</td>\n",
       "    </tr>\n",
       "    <tr>\n",
       "      <th>1</th>\n",
       "      <td>2</td>\n",
       "    </tr>\n",
       "    <tr>\n",
       "      <th>2</th>\n",
       "      <td>3</td>\n",
       "    </tr>\n",
       "  </tbody>\n",
       "</table>\n",
       "</div>"
      ],
      "text/plain": [
       "   0\n",
       "0  1\n",
       "1  2\n",
       "2  3"
      ]
     },
     "execution_count": 17,
     "metadata": {},
     "output_type": "execute_result"
    }
   ],
   "source": [
    "# Import pandas and create a DataFrame out of one\n",
    "# of the arrays you've created\n",
    "import pandas as pd\n",
    "arr1df = pd.DataFrame(arr1d)\n",
    "arr1df"
   ]
  },
  {
   "cell_type": "code",
   "execution_count": 27,
   "metadata": {},
   "outputs": [
    {
     "data": {
      "text/plain": [
       "array([[1., 1.],\n",
       "       [1., 1.],\n",
       "       [1., 1.],\n",
       "       [1., 1.],\n",
       "       [1., 1.],\n",
       "       [1., 1.],\n",
       "       [1., 1.],\n",
       "       [1., 1.],\n",
       "       [1., 1.],\n",
       "       [1., 1.]])"
      ]
     },
     "execution_count": 27,
     "metadata": {},
     "output_type": "execute_result"
    }
   ],
   "source": [
    "# Create an array of shape (10, 2) with only ones\n",
    "np.ones(shape=(10,2))"
   ]
  },
  {
   "cell_type": "code",
   "execution_count": 28,
   "metadata": {},
   "outputs": [
    {
     "data": {
      "text/plain": [
       "array([[[0., 0., 0.],\n",
       "        [0., 0., 0.]],\n",
       "\n",
       "       [[0., 0., 0.],\n",
       "        [0., 0., 0.]],\n",
       "\n",
       "       [[0., 0., 0.],\n",
       "        [0., 0., 0.]],\n",
       "\n",
       "       [[0., 0., 0.],\n",
       "        [0., 0., 0.]],\n",
       "\n",
       "       [[0., 0., 0.],\n",
       "        [0., 0., 0.]],\n",
       "\n",
       "       [[0., 0., 0.],\n",
       "        [0., 0., 0.]],\n",
       "\n",
       "       [[0., 0., 0.],\n",
       "        [0., 0., 0.]]])"
      ]
     },
     "execution_count": 28,
     "metadata": {},
     "output_type": "execute_result"
    }
   ],
   "source": [
    "# Create an array of shape (7, 2, 3) of only zeros\n",
    "np.zeros(shape=(7,2,3))"
   ]
  },
  {
   "cell_type": "code",
   "execution_count": 29,
   "metadata": {},
   "outputs": [
    {
     "data": {
      "text/plain": [
       "array([ 0,  3,  6,  9, 12, 15, 18, 21, 24, 27, 30, 33, 36, 39, 42, 45, 48,\n",
       "       51, 54, 57, 60, 63, 66, 69, 72, 75, 78, 81, 84, 87, 90, 93, 96, 99])"
      ]
     },
     "execution_count": 29,
     "metadata": {},
     "output_type": "execute_result"
    }
   ],
   "source": [
    "# Create an array within a range of 0 and 100 with step 3\n",
    "np.arange(0,100,3)"
   ]
  },
  {
   "cell_type": "code",
   "execution_count": 30,
   "metadata": {},
   "outputs": [
    {
     "data": {
      "text/plain": [
       "array([[8, 0],\n",
       "       [9, 2],\n",
       "       [6, 3],\n",
       "       [8, 2],\n",
       "       [4, 2],\n",
       "       [6, 4],\n",
       "       [8, 6]])"
      ]
     },
     "execution_count": 30,
     "metadata": {},
     "output_type": "execute_result"
    }
   ],
   "source": [
    "# Create a random array with numbers between 0 and 10 of size (7, 2)\n",
    "np.random.randint(0,10,size=(7,2))"
   ]
  },
  {
   "cell_type": "code",
   "execution_count": 31,
   "metadata": {},
   "outputs": [
    {
     "data": {
      "text/plain": [
       "array([[0.01326496, 0.94220176, 0.56328822, 0.3854165 , 0.01596625],\n",
       "       [0.23089383, 0.24102547, 0.68326352, 0.60999666, 0.83319491],\n",
       "       [0.17336465, 0.39106061, 0.18223609, 0.75536141, 0.42515587]])"
      ]
     },
     "execution_count": 31,
     "metadata": {},
     "output_type": "execute_result"
    }
   ],
   "source": [
    "# Create a random array of floats between 0 & 1 of shape (3, 5)\n",
    "np.random.random(size=(3,5))"
   ]
  },
  {
   "cell_type": "code",
   "execution_count": 32,
   "metadata": {},
   "outputs": [
    {
     "data": {
      "text/plain": [
       "array([[6, 3, 7, 4, 6, 9],\n",
       "       [2, 6, 7, 4, 3, 7],\n",
       "       [7, 2, 5, 4, 1, 7],\n",
       "       [5, 1, 4, 0, 9, 5]])"
      ]
     },
     "execution_count": 32,
     "metadata": {},
     "output_type": "execute_result"
    }
   ],
   "source": [
    "# Set the random seed to 42\n",
    "np.random.seed(42)\n",
    "\n",
    "# Create a random array of numbers between 0 & 10 of size (4, 6)\n",
    "np.random.randint(10, size=(4, 6))"
   ]
  },
  {
   "cell_type": "markdown",
   "metadata": {},
   "source": [
    "Run the cell above again, what happens?\n",
    "\n",
    "Are the numbers in the array different or the same? Why do think this is?"
   ]
  },
  {
   "cell_type": "code",
   "execution_count": 34,
   "metadata": {},
   "outputs": [
    {
     "data": {
      "text/plain": [
       "array([1, 2, 3, 4, 5, 6, 7, 8, 9])"
      ]
     },
     "execution_count": 34,
     "metadata": {},
     "output_type": "execute_result"
    }
   ],
   "source": [
    "# Create an array of random numbers between 1 & 10 of size (3, 7)\n",
    "# and save it to a variable\n",
    "random_array = np.random.randint(1,10,size=(3,7))\n",
    "random_array\n",
    "# Find the unique numbers in the array you just created\n",
    "np.unique(random_array)"
   ]
  },
  {
   "cell_type": "code",
   "execution_count": 35,
   "metadata": {},
   "outputs": [
    {
     "data": {
      "text/plain": [
       "array([7, 8, 3, 1, 4, 2, 8])"
      ]
     },
     "execution_count": 35,
     "metadata": {},
     "output_type": "execute_result"
    }
   ],
   "source": [
    "# Find the 0'th index of the latest array you created\n",
    "random_array[0]"
   ]
  },
  {
   "cell_type": "code",
   "execution_count": 36,
   "metadata": {},
   "outputs": [
    {
     "data": {
      "text/plain": [
       "array([[7, 8, 3, 1, 4, 2, 8],\n",
       "       [4, 2, 6, 6, 4, 6, 2]])"
      ]
     },
     "execution_count": 36,
     "metadata": {},
     "output_type": "execute_result"
    }
   ],
   "source": [
    "# Get the first 2 rows of latest array you created\n",
    "random_array[:2]"
   ]
  },
  {
   "cell_type": "code",
   "execution_count": 38,
   "metadata": {},
   "outputs": [
    {
     "data": {
      "text/plain": [
       "array([[7, 8],\n",
       "       [4, 2]])"
      ]
     },
     "execution_count": 38,
     "metadata": {},
     "output_type": "execute_result"
    }
   ],
   "source": [
    "# Get the first 2 values of the first 2 rows of the latest array\n",
    "random_array[:2,:2]"
   ]
  },
  {
   "cell_type": "code",
   "execution_count": 40,
   "metadata": {},
   "outputs": [
    {
     "data": {
      "text/plain": [
       "array([[0, 7, 2, 2, 0],\n",
       "       [4, 9, 6, 9, 8],\n",
       "       [6, 8, 7, 1, 0]])"
      ]
     },
     "execution_count": 40,
     "metadata": {},
     "output_type": "execute_result"
    }
   ],
   "source": [
    "# Create a random array of numbers between 0 & 10 and an array of ones\n",
    "# both of size (3, 5), save them both to variables\n",
    "random_array2 = np.random.randint(0,10,size=(3,5))\n",
    "ones = np.ones((3,5))\n",
    "random_array2"
   ]
  },
  {
   "cell_type": "code",
   "execution_count": 41,
   "metadata": {},
   "outputs": [
    {
     "data": {
      "text/plain": [
       "array([[ 1.,  8.,  3.,  3.,  1.],\n",
       "       [ 5., 10.,  7., 10.,  9.],\n",
       "       [ 7.,  9.,  8.,  2.,  1.]])"
      ]
     },
     "execution_count": 41,
     "metadata": {},
     "output_type": "execute_result"
    }
   ],
   "source": [
    "# Add the two arrays together\n",
    "random_array2 + ones"
   ]
  },
  {
   "cell_type": "code",
   "execution_count": 43,
   "metadata": {},
   "outputs": [],
   "source": [
    "# Create another array of ones of shape (5, 3)\n",
    "ones2 = np.ones((5,3))"
   ]
  },
  {
   "cell_type": "code",
   "execution_count": 44,
   "metadata": {},
   "outputs": [
    {
     "ename": "ValueError",
     "evalue": "operands could not be broadcast together with shapes (5,3) (3,5) ",
     "output_type": "error",
     "traceback": [
      "\u001b[1;31m---------------------------------------------------------------------------\u001b[0m",
      "\u001b[1;31mValueError\u001b[0m                                Traceback (most recent call last)",
      "Cell \u001b[1;32mIn[44], line 2\u001b[0m\n\u001b[0;32m      1\u001b[0m \u001b[38;5;66;03m# Try add the array of ones and the other most recent array together\u001b[39;00m\n\u001b[1;32m----> 2\u001b[0m \u001b[43mones2\u001b[49m\u001b[43m \u001b[49m\u001b[38;5;241;43m+\u001b[39;49m\u001b[43m \u001b[49m\u001b[43mones\u001b[49m\n",
      "\u001b[1;31mValueError\u001b[0m: operands could not be broadcast together with shapes (5,3) (3,5) "
     ]
    }
   ],
   "source": [
    "# Try add the array of ones and the other most recent array together\n",
    "ones2 + ones"
   ]
  },
  {
   "cell_type": "markdown",
   "metadata": {},
   "source": [
    "When you try the last cell, it produces an error. Why do think this is?\n",
    "\n",
    "How would you fix it?"
   ]
  },
  {
   "cell_type": "code",
   "execution_count": 45,
   "metadata": {},
   "outputs": [
    {
     "data": {
      "text/plain": [
       "array([[2., 2., 2., 2., 2.],\n",
       "       [2., 2., 2., 2., 2.],\n",
       "       [2., 2., 2., 2., 2.]])"
      ]
     },
     "execution_count": 45,
     "metadata": {},
     "output_type": "execute_result"
    }
   ],
   "source": [
    "# the arrays have different shapes\n",
    "# they can be fixed by reshape\n",
    "ones + ones2.reshape(3,5)"
   ]
  },
  {
   "cell_type": "code",
   "execution_count": 47,
   "metadata": {},
   "outputs": [],
   "source": [
    "# Create another array of ones of shape (3, 5)\n",
    "ones = np.ones((3,5))"
   ]
  },
  {
   "cell_type": "code",
   "execution_count": 50,
   "metadata": {},
   "outputs": [
    {
     "data": {
      "text/plain": [
       "array([[-1.,  6.,  1.,  1., -1.],\n",
       "       [ 3.,  8.,  5.,  8.,  7.],\n",
       "       [ 5.,  7.,  6.,  0., -1.]])"
      ]
     },
     "execution_count": 50,
     "metadata": {},
     "output_type": "execute_result"
    }
   ],
   "source": [
    "# Subtract the new array of ones from the other most recent array\n",
    "random_array2 - ones"
   ]
  },
  {
   "cell_type": "code",
   "execution_count": 51,
   "metadata": {},
   "outputs": [
    {
     "data": {
      "text/plain": [
       "array([[0., 7., 2., 2., 0.],\n",
       "       [4., 9., 6., 9., 8.],\n",
       "       [6., 8., 7., 1., 0.]])"
      ]
     },
     "execution_count": 51,
     "metadata": {},
     "output_type": "execute_result"
    }
   ],
   "source": [
    "# Multiply the ones array with the latest array\n",
    "ones * random_array2"
   ]
  },
  {
   "cell_type": "code",
   "execution_count": 52,
   "metadata": {},
   "outputs": [
    {
     "data": {
      "text/plain": [
       "array([[ 0, 49,  4,  4,  0],\n",
       "       [16, 81, 36, 81, 64],\n",
       "       [36, 64, 49,  1,  0]])"
      ]
     },
     "execution_count": 52,
     "metadata": {},
     "output_type": "execute_result"
    }
   ],
   "source": [
    "# Take the latest array to the power of 2 using '**'\n",
    "random_array2 ** 2"
   ]
  },
  {
   "cell_type": "code",
   "execution_count": 53,
   "metadata": {},
   "outputs": [
    {
     "data": {
      "text/plain": [
       "array([[ 0, 49,  4,  4,  0],\n",
       "       [16, 81, 36, 81, 64],\n",
       "       [36, 64, 49,  1,  0]])"
      ]
     },
     "execution_count": 53,
     "metadata": {},
     "output_type": "execute_result"
    }
   ],
   "source": [
    "# Do the same thing with np.square()\n",
    "np.square(random_array2)"
   ]
  },
  {
   "cell_type": "code",
   "execution_count": 55,
   "metadata": {},
   "outputs": [
    {
     "data": {
      "text/plain": [
       "4.6"
      ]
     },
     "execution_count": 55,
     "metadata": {},
     "output_type": "execute_result"
    }
   ],
   "source": [
    "# Find the mean of the latest array using np.mean()\n",
    "np.mean(random_array2)"
   ]
  },
  {
   "cell_type": "code",
   "execution_count": 56,
   "metadata": {},
   "outputs": [
    {
     "data": {
      "text/plain": [
       "9"
      ]
     },
     "execution_count": 56,
     "metadata": {},
     "output_type": "execute_result"
    }
   ],
   "source": [
    "# Find the maximum of the latest array using np.max()\n",
    "np.max(random_array2)"
   ]
  },
  {
   "cell_type": "code",
   "execution_count": 57,
   "metadata": {},
   "outputs": [
    {
     "data": {
      "text/plain": [
       "0"
      ]
     },
     "execution_count": 57,
     "metadata": {},
     "output_type": "execute_result"
    }
   ],
   "source": [
    "# Find the minimum of the latest array using np.min()\n",
    "np.min(random_array2)"
   ]
  },
  {
   "cell_type": "code",
   "execution_count": 58,
   "metadata": {},
   "outputs": [
    {
     "data": {
      "text/plain": [
       "3.3426536364591137"
      ]
     },
     "execution_count": 58,
     "metadata": {},
     "output_type": "execute_result"
    }
   ],
   "source": [
    "# Find the standard deviation of the latest array\n",
    "np.std(random_array2)"
   ]
  },
  {
   "cell_type": "code",
   "execution_count": 59,
   "metadata": {},
   "outputs": [
    {
     "data": {
      "text/plain": [
       "11.173333333333336"
      ]
     },
     "execution_count": 59,
     "metadata": {},
     "output_type": "execute_result"
    }
   ],
   "source": [
    "# Find the variance of the latest array\n",
    "np.var(random_array2)"
   ]
  },
  {
   "cell_type": "code",
   "execution_count": 60,
   "metadata": {},
   "outputs": [
    {
     "data": {
      "text/plain": [
       "array([[[0],\n",
       "        [7],\n",
       "        [2],\n",
       "        [2],\n",
       "        [0]],\n",
       "\n",
       "       [[4],\n",
       "        [9],\n",
       "        [6],\n",
       "        [9],\n",
       "        [8]],\n",
       "\n",
       "       [[6],\n",
       "        [8],\n",
       "        [7],\n",
       "        [1],\n",
       "        [0]]])"
      ]
     },
     "execution_count": 60,
     "metadata": {},
     "output_type": "execute_result"
    }
   ],
   "source": [
    "# Reshape the latest array to (3, 5, 1)\n",
    "random_array2.reshape(3,5,1)"
   ]
  },
  {
   "cell_type": "code",
   "execution_count": 61,
   "metadata": {},
   "outputs": [
    {
     "data": {
      "text/plain": [
       "array([[0, 4, 6],\n",
       "       [7, 9, 8],\n",
       "       [2, 6, 7],\n",
       "       [2, 9, 1],\n",
       "       [0, 8, 0]])"
      ]
     },
     "execution_count": 61,
     "metadata": {},
     "output_type": "execute_result"
    }
   ],
   "source": [
    "# Transpose the latest array\n",
    "random_array2.T"
   ]
  },
  {
   "cell_type": "markdown",
   "metadata": {},
   "source": [
    "What does the transpose do?"
   ]
  },
  {
   "cell_type": "code",
   "execution_count": 76,
   "metadata": {},
   "outputs": [],
   "source": [
    "# Create two arrays of random integers between 0 to 10\n",
    "# one of size (3, 3) the other of size (3, 2)\n",
    "mat1 = np.random.randint(10,size=(3,3))\n",
    "mat2 = np.random.randint(10,size=(3,2))"
   ]
  },
  {
   "cell_type": "code",
   "execution_count": 77,
   "metadata": {},
   "outputs": [
    {
     "data": {
      "text/plain": [
       "array([[24, 48],\n",
       "       [24, 53],\n",
       "       [12, 59]])"
      ]
     },
     "execution_count": 77,
     "metadata": {},
     "output_type": "execute_result"
    }
   ],
   "source": [
    "# Perform a dot product on the two newest arrays you created\n",
    "np.dot(mat1,mat2)"
   ]
  },
  {
   "cell_type": "code",
   "execution_count": 78,
   "metadata": {},
   "outputs": [],
   "source": [
    "# Create two arrays of random integers between 0 to 10\n",
    "# both of size (4, 3)\n",
    "mat3 = np.random.randint(0,10,size=(4,3))\n",
    "mat4 = np.random.randint(0,10,size=(4,3))"
   ]
  },
  {
   "cell_type": "code",
   "execution_count": 80,
   "metadata": {},
   "outputs": [
    {
     "ename": "ValueError",
     "evalue": "shapes (4,3) and (4,3) not aligned: 3 (dim 1) != 4 (dim 0)",
     "output_type": "error",
     "traceback": [
      "\u001b[1;31m---------------------------------------------------------------------------\u001b[0m",
      "\u001b[1;31mValueError\u001b[0m                                Traceback (most recent call last)",
      "Cell \u001b[1;32mIn[80], line 2\u001b[0m\n\u001b[0;32m      1\u001b[0m \u001b[38;5;66;03m# Perform a dot product on the two newest arrays you created\u001b[39;00m\n\u001b[1;32m----> 2\u001b[0m \u001b[43mnp\u001b[49m\u001b[38;5;241;43m.\u001b[39;49m\u001b[43mdot\u001b[49m\u001b[43m(\u001b[49m\u001b[43mmat3\u001b[49m\u001b[43m,\u001b[49m\u001b[43mmat4\u001b[49m\u001b[43m)\u001b[49m\n",
      "\u001b[1;31mValueError\u001b[0m: shapes (4,3) and (4,3) not aligned: 3 (dim 1) != 4 (dim 0)"
     ]
    }
   ],
   "source": [
    "# Perform a dot product on the two newest arrays you created\n",
    "np.dot(mat3,mat4)"
   ]
  },
  {
   "cell_type": "markdown",
   "metadata": {},
   "source": [
    "It doesn't work. How would you fix it?"
   ]
  },
  {
   "cell_type": "code",
   "execution_count": 81,
   "metadata": {},
   "outputs": [
    {
     "data": {
      "text/plain": [
       "array([[ 24, 126,  44],\n",
       "       [ 76, 117,  47],\n",
       "       [ 53,  94,  32]])"
      ]
     },
     "execution_count": 81,
     "metadata": {},
     "output_type": "execute_result"
    }
   ],
   "source": [
    "# Take the latest two arrays, perform a transpose on one of them and then perform \n",
    "# a dot product on them both\n",
    "np.dot(mat3.T,mat4)"
   ]
  },
  {
   "cell_type": "markdown",
   "metadata": {},
   "source": [
    "Notice how performing a transpose allows the dot product to happen.\n",
    "\n",
    "Why is this?\n",
    "\n",
    "Checking out the documentation on [`np.dot()`](https://docs.scipy.org/doc/numpy/reference/generated/numpy.dot.html) may help, as well as reading [Math is Fun's guide on the dot product](https://www.mathsisfun.com/algebra/vectors-dot-product.html).\n",
    "\n",
    "Let's now compare arrays."
   ]
  },
  {
   "cell_type": "code",
   "execution_count": 82,
   "metadata": {},
   "outputs": [],
   "source": [
    "# Create two arrays of random integers between 0 & 10 of the same shape\n",
    "# and save them to variables\n",
    "mat5 = np.random.randint(0,10,size=(4,2))\n",
    "mat6 = np.random.randint(0,10,size=(4,2))"
   ]
  },
  {
   "cell_type": "code",
   "execution_count": 85,
   "metadata": {},
   "outputs": [
    {
     "data": {
      "text/plain": [
       "array([[1, 5],\n",
       "       [2, 8],\n",
       "       [3, 0],\n",
       "       [3, 0]])"
      ]
     },
     "execution_count": 85,
     "metadata": {},
     "output_type": "execute_result"
    }
   ],
   "source": [
    "mat5"
   ]
  },
  {
   "cell_type": "code",
   "execution_count": 86,
   "metadata": {},
   "outputs": [
    {
     "data": {
      "text/plain": [
       "array([[4, 3],\n",
       "       [7, 7],\n",
       "       [6, 2],\n",
       "       [0, 0]])"
      ]
     },
     "execution_count": 86,
     "metadata": {},
     "output_type": "execute_result"
    }
   ],
   "source": [
    "mat6"
   ]
  },
  {
   "cell_type": "code",
   "execution_count": 83,
   "metadata": {},
   "outputs": [
    {
     "data": {
      "text/plain": [
       "array([[False,  True],\n",
       "       [False,  True],\n",
       "       [False, False],\n",
       "       [ True, False]])"
      ]
     },
     "execution_count": 83,
     "metadata": {},
     "output_type": "execute_result"
    }
   ],
   "source": [
    "# Compare the two arrays with '>'\n",
    "mat5 > mat6"
   ]
  },
  {
   "cell_type": "markdown",
   "metadata": {},
   "source": [
    "What happens when you compare the arrays with `>`?"
   ]
  },
  {
   "cell_type": "code",
   "execution_count": 84,
   "metadata": {},
   "outputs": [
    {
     "data": {
      "text/plain": [
       "array([[False,  True],\n",
       "       [False,  True],\n",
       "       [False, False],\n",
       "       [ True,  True]])"
      ]
     },
     "execution_count": 84,
     "metadata": {},
     "output_type": "execute_result"
    }
   ],
   "source": [
    "# Compare the two arrays with '>='\n",
    "mat5 >= mat6"
   ]
  },
  {
   "cell_type": "code",
   "execution_count": 87,
   "metadata": {},
   "outputs": [
    {
     "data": {
      "text/plain": [
       "array([[False, False],\n",
       "       [False,  True],\n",
       "       [False, False],\n",
       "       [False, False]])"
      ]
     },
     "execution_count": 87,
     "metadata": {},
     "output_type": "execute_result"
    }
   ],
   "source": [
    "# Find which elements of the first array are greater than 7\n",
    "mat5 > 7"
   ]
  },
  {
   "cell_type": "code",
   "execution_count": 88,
   "metadata": {},
   "outputs": [
    {
     "data": {
      "text/plain": [
       "array([[False, False],\n",
       "       [False, False],\n",
       "       [False, False],\n",
       "       [False,  True]])"
      ]
     },
     "execution_count": 88,
     "metadata": {},
     "output_type": "execute_result"
    }
   ],
   "source": [
    "# Which parts of each array are equal? (try using '==')\n",
    "mat5 == mat6"
   ]
  },
  {
   "cell_type": "code",
   "execution_count": 92,
   "metadata": {},
   "outputs": [
    {
     "data": {
      "text/plain": [
       "array([[1, 5],\n",
       "       [2, 8],\n",
       "       [0, 3],\n",
       "       [0, 3]])"
      ]
     },
     "execution_count": 92,
     "metadata": {},
     "output_type": "execute_result"
    }
   ],
   "source": [
    "# Sort one of the arrays you just created in ascending order\n",
    "np.sort(mat5)"
   ]
  },
  {
   "cell_type": "code",
   "execution_count": 93,
   "metadata": {},
   "outputs": [
    {
     "data": {
      "text/plain": [
       "array([[1, 0],\n",
       "       [0, 1],\n",
       "       [1, 0],\n",
       "       [0, 1]], dtype=int64)"
      ]
     },
     "execution_count": 93,
     "metadata": {},
     "output_type": "execute_result"
    }
   ],
   "source": [
    "# Sort the indexes of one of the arrays you just created\n",
    "np.argsort(mat6)"
   ]
  },
  {
   "cell_type": "code",
   "execution_count": 94,
   "metadata": {},
   "outputs": [
    {
     "data": {
      "text/plain": [
       "2"
      ]
     },
     "execution_count": 94,
     "metadata": {},
     "output_type": "execute_result"
    }
   ],
   "source": [
    "# Find the index with the maximum value in one of the arrays you've created\n",
    "np.argmax(mat6)"
   ]
  },
  {
   "cell_type": "code",
   "execution_count": 95,
   "metadata": {},
   "outputs": [
    {
     "data": {
      "text/plain": [
       "6"
      ]
     },
     "execution_count": 95,
     "metadata": {},
     "output_type": "execute_result"
    }
   ],
   "source": [
    "# Find the index with the minimum value in one of the arrays you've created\n",
    "np.argmin(mat6)"
   ]
  },
  {
   "cell_type": "code",
   "execution_count": 97,
   "metadata": {},
   "outputs": [
    {
     "data": {
      "text/plain": [
       "array([0, 0, 0, 0], dtype=int64)"
      ]
     },
     "execution_count": 97,
     "metadata": {},
     "output_type": "execute_result"
    }
   ],
   "source": [
    "# Find the indexes with the maximum values down the 1st axis (axis=1)\n",
    "# of one of the arrays you created\n",
    "np.argmax(mat6,axis=1)"
   ]
  },
  {
   "cell_type": "code",
   "execution_count": 98,
   "metadata": {},
   "outputs": [
    {
     "data": {
      "text/plain": [
       "array([1, 0, 1, 0], dtype=int64)"
      ]
     },
     "execution_count": 98,
     "metadata": {},
     "output_type": "execute_result"
    }
   ],
   "source": [
    "# Find the indexes with the minimum values across the 0th axis (axis=0)\n",
    "# of one of the arrays you created\n",
    "np.argmin(mat6,axis=1)"
   ]
  },
  {
   "cell_type": "code",
   "execution_count": 99,
   "metadata": {},
   "outputs": [
    {
     "data": {
      "text/plain": [
       "array([[ 0.6342403 ,  3.06109521, -1.31857016,  0.72038724,  0.31589091],\n",
       "       [ 0.05928128,  0.91051222, -0.02972536, -1.93637621, -0.84735753],\n",
       "       [ 1.36443345,  1.1720289 , -0.37311919,  0.50359706,  2.78393805]])"
      ]
     },
     "execution_count": 99,
     "metadata": {},
     "output_type": "execute_result"
    }
   ],
   "source": [
    "# Create an array of normally distributed random numbers\n",
    "np.random.randn(3, 5)"
   ]
  },
  {
   "cell_type": "code",
   "execution_count": 104,
   "metadata": {},
   "outputs": [
    {
     "data": {
      "text/plain": [
       "array([ 1.        ,  1.03903904,  1.07807808,  1.11711712,  1.15615616,\n",
       "        1.1951952 ,  1.23423423,  1.27327327,  1.31231231,  1.35135135,\n",
       "        1.39039039,  1.42942943,  1.46846847,  1.50750751,  1.54654655,\n",
       "        1.58558559,  1.62462462,  1.66366366,  1.7027027 ,  1.74174174,\n",
       "        1.78078078,  1.81981982,  1.85885886,  1.8978979 ,  1.93693694,\n",
       "        1.97597598,  2.01501502,  2.05405405,  2.09309309,  2.13213213,\n",
       "        2.17117117,  2.21021021,  2.24924925,  2.28828829,  2.32732733,\n",
       "        2.36636637,  2.40540541,  2.44444444,  2.48348348,  2.52252252,\n",
       "        2.56156156,  2.6006006 ,  2.63963964,  2.67867868,  2.71771772,\n",
       "        2.75675676,  2.7957958 ,  2.83483483,  2.87387387,  2.91291291,\n",
       "        2.95195195,  2.99099099,  3.03003003,  3.06906907,  3.10810811,\n",
       "        3.14714715,  3.18618619,  3.22522523,  3.26426426,  3.3033033 ,\n",
       "        3.34234234,  3.38138138,  3.42042042,  3.45945946,  3.4984985 ,\n",
       "        3.53753754,  3.57657658,  3.61561562,  3.65465465,  3.69369369,\n",
       "        3.73273273,  3.77177177,  3.81081081,  3.84984985,  3.88888889,\n",
       "        3.92792793,  3.96696697,  4.00600601,  4.04504505,  4.08408408,\n",
       "        4.12312312,  4.16216216,  4.2012012 ,  4.24024024,  4.27927928,\n",
       "        4.31831832,  4.35735736,  4.3963964 ,  4.43543544,  4.47447447,\n",
       "        4.51351351,  4.55255255,  4.59159159,  4.63063063,  4.66966967,\n",
       "        4.70870871,  4.74774775,  4.78678679,  4.82582583,  4.86486486,\n",
       "        4.9039039 ,  4.94294294,  4.98198198,  5.02102102,  5.06006006,\n",
       "        5.0990991 ,  5.13813814,  5.17717718,  5.21621622,  5.25525526,\n",
       "        5.29429429,  5.33333333,  5.37237237,  5.41141141,  5.45045045,\n",
       "        5.48948949,  5.52852853,  5.56756757,  5.60660661,  5.64564565,\n",
       "        5.68468468,  5.72372372,  5.76276276,  5.8018018 ,  5.84084084,\n",
       "        5.87987988,  5.91891892,  5.95795796,  5.996997  ,  6.03603604,\n",
       "        6.07507508,  6.11411411,  6.15315315,  6.19219219,  6.23123123,\n",
       "        6.27027027,  6.30930931,  6.34834835,  6.38738739,  6.42642643,\n",
       "        6.46546547,  6.5045045 ,  6.54354354,  6.58258258,  6.62162162,\n",
       "        6.66066066,  6.6996997 ,  6.73873874,  6.77777778,  6.81681682,\n",
       "        6.85585586,  6.89489489,  6.93393393,  6.97297297,  7.01201201,\n",
       "        7.05105105,  7.09009009,  7.12912913,  7.16816817,  7.20720721,\n",
       "        7.24624625,  7.28528529,  7.32432432,  7.36336336,  7.4024024 ,\n",
       "        7.44144144,  7.48048048,  7.51951952,  7.55855856,  7.5975976 ,\n",
       "        7.63663664,  7.67567568,  7.71471471,  7.75375375,  7.79279279,\n",
       "        7.83183183,  7.87087087,  7.90990991,  7.94894895,  7.98798799,\n",
       "        8.02702703,  8.06606607,  8.10510511,  8.14414414,  8.18318318,\n",
       "        8.22222222,  8.26126126,  8.3003003 ,  8.33933934,  8.37837838,\n",
       "        8.41741742,  8.45645646,  8.4954955 ,  8.53453453,  8.57357357,\n",
       "        8.61261261,  8.65165165,  8.69069069,  8.72972973,  8.76876877,\n",
       "        8.80780781,  8.84684685,  8.88588589,  8.92492492,  8.96396396,\n",
       "        9.003003  ,  9.04204204,  9.08108108,  9.12012012,  9.15915916,\n",
       "        9.1981982 ,  9.23723724,  9.27627628,  9.31531532,  9.35435435,\n",
       "        9.39339339,  9.43243243,  9.47147147,  9.51051051,  9.54954955,\n",
       "        9.58858859,  9.62762763,  9.66666667,  9.70570571,  9.74474474,\n",
       "        9.78378378,  9.82282282,  9.86186186,  9.9009009 ,  9.93993994,\n",
       "        9.97897898, 10.01801802, 10.05705706, 10.0960961 , 10.13513514,\n",
       "       10.17417417, 10.21321321, 10.25225225, 10.29129129, 10.33033033,\n",
       "       10.36936937, 10.40840841, 10.44744745, 10.48648649, 10.52552553,\n",
       "       10.56456456, 10.6036036 , 10.64264264, 10.68168168, 10.72072072,\n",
       "       10.75975976, 10.7987988 , 10.83783784, 10.87687688, 10.91591592,\n",
       "       10.95495495, 10.99399399, 11.03303303, 11.07207207, 11.11111111,\n",
       "       11.15015015, 11.18918919, 11.22822823, 11.26726727, 11.30630631,\n",
       "       11.34534535, 11.38438438, 11.42342342, 11.46246246, 11.5015015 ,\n",
       "       11.54054054, 11.57957958, 11.61861862, 11.65765766, 11.6966967 ,\n",
       "       11.73573574, 11.77477477, 11.81381381, 11.85285285, 11.89189189,\n",
       "       11.93093093, 11.96996997, 12.00900901, 12.04804805, 12.08708709,\n",
       "       12.12612613, 12.16516517, 12.2042042 , 12.24324324, 12.28228228,\n",
       "       12.32132132, 12.36036036, 12.3993994 , 12.43843844, 12.47747748,\n",
       "       12.51651652, 12.55555556, 12.59459459, 12.63363363, 12.67267267,\n",
       "       12.71171171, 12.75075075, 12.78978979, 12.82882883, 12.86786787,\n",
       "       12.90690691, 12.94594595, 12.98498498, 13.02402402, 13.06306306,\n",
       "       13.1021021 , 13.14114114, 13.18018018, 13.21921922, 13.25825826,\n",
       "       13.2972973 , 13.33633634, 13.37537538, 13.41441441, 13.45345345,\n",
       "       13.49249249, 13.53153153, 13.57057057, 13.60960961, 13.64864865,\n",
       "       13.68768769, 13.72672673, 13.76576577, 13.8048048 , 13.84384384,\n",
       "       13.88288288, 13.92192192, 13.96096096, 14.        , 14.03903904,\n",
       "       14.07807808, 14.11711712, 14.15615616, 14.1951952 , 14.23423423,\n",
       "       14.27327327, 14.31231231, 14.35135135, 14.39039039, 14.42942943,\n",
       "       14.46846847, 14.50750751, 14.54654655, 14.58558559, 14.62462462,\n",
       "       14.66366366, 14.7027027 , 14.74174174, 14.78078078, 14.81981982,\n",
       "       14.85885886, 14.8978979 , 14.93693694, 14.97597598, 15.01501502,\n",
       "       15.05405405, 15.09309309, 15.13213213, 15.17117117, 15.21021021,\n",
       "       15.24924925, 15.28828829, 15.32732733, 15.36636637, 15.40540541,\n",
       "       15.44444444, 15.48348348, 15.52252252, 15.56156156, 15.6006006 ,\n",
       "       15.63963964, 15.67867868, 15.71771772, 15.75675676, 15.7957958 ,\n",
       "       15.83483483, 15.87387387, 15.91291291, 15.95195195, 15.99099099,\n",
       "       16.03003003, 16.06906907, 16.10810811, 16.14714715, 16.18618619,\n",
       "       16.22522523, 16.26426426, 16.3033033 , 16.34234234, 16.38138138,\n",
       "       16.42042042, 16.45945946, 16.4984985 , 16.53753754, 16.57657658,\n",
       "       16.61561562, 16.65465465, 16.69369369, 16.73273273, 16.77177177,\n",
       "       16.81081081, 16.84984985, 16.88888889, 16.92792793, 16.96696697,\n",
       "       17.00600601, 17.04504505, 17.08408408, 17.12312312, 17.16216216,\n",
       "       17.2012012 , 17.24024024, 17.27927928, 17.31831832, 17.35735736,\n",
       "       17.3963964 , 17.43543544, 17.47447447, 17.51351351, 17.55255255,\n",
       "       17.59159159, 17.63063063, 17.66966967, 17.70870871, 17.74774775,\n",
       "       17.78678679, 17.82582583, 17.86486486, 17.9039039 , 17.94294294,\n",
       "       17.98198198, 18.02102102, 18.06006006, 18.0990991 , 18.13813814,\n",
       "       18.17717718, 18.21621622, 18.25525526, 18.29429429, 18.33333333,\n",
       "       18.37237237, 18.41141141, 18.45045045, 18.48948949, 18.52852853,\n",
       "       18.56756757, 18.60660661, 18.64564565, 18.68468468, 18.72372372,\n",
       "       18.76276276, 18.8018018 , 18.84084084, 18.87987988, 18.91891892,\n",
       "       18.95795796, 18.996997  , 19.03603604, 19.07507508, 19.11411411,\n",
       "       19.15315315, 19.19219219, 19.23123123, 19.27027027, 19.30930931,\n",
       "       19.34834835, 19.38738739, 19.42642643, 19.46546547, 19.5045045 ,\n",
       "       19.54354354, 19.58258258, 19.62162162, 19.66066066, 19.6996997 ,\n",
       "       19.73873874, 19.77777778, 19.81681682, 19.85585586, 19.89489489,\n",
       "       19.93393393, 19.97297297, 20.01201201, 20.05105105, 20.09009009,\n",
       "       20.12912913, 20.16816817, 20.20720721, 20.24624625, 20.28528529,\n",
       "       20.32432432, 20.36336336, 20.4024024 , 20.44144144, 20.48048048,\n",
       "       20.51951952, 20.55855856, 20.5975976 , 20.63663664, 20.67567568,\n",
       "       20.71471471, 20.75375375, 20.79279279, 20.83183183, 20.87087087,\n",
       "       20.90990991, 20.94894895, 20.98798799, 21.02702703, 21.06606607,\n",
       "       21.10510511, 21.14414414, 21.18318318, 21.22222222, 21.26126126,\n",
       "       21.3003003 , 21.33933934, 21.37837838, 21.41741742, 21.45645646,\n",
       "       21.4954955 , 21.53453453, 21.57357357, 21.61261261, 21.65165165,\n",
       "       21.69069069, 21.72972973, 21.76876877, 21.80780781, 21.84684685,\n",
       "       21.88588589, 21.92492492, 21.96396396, 22.003003  , 22.04204204,\n",
       "       22.08108108, 22.12012012, 22.15915916, 22.1981982 , 22.23723724,\n",
       "       22.27627628, 22.31531532, 22.35435435, 22.39339339, 22.43243243,\n",
       "       22.47147147, 22.51051051, 22.54954955, 22.58858859, 22.62762763,\n",
       "       22.66666667, 22.70570571, 22.74474474, 22.78378378, 22.82282282,\n",
       "       22.86186186, 22.9009009 , 22.93993994, 22.97897898, 23.01801802,\n",
       "       23.05705706, 23.0960961 , 23.13513514, 23.17417417, 23.21321321,\n",
       "       23.25225225, 23.29129129, 23.33033033, 23.36936937, 23.40840841,\n",
       "       23.44744745, 23.48648649, 23.52552553, 23.56456456, 23.6036036 ,\n",
       "       23.64264264, 23.68168168, 23.72072072, 23.75975976, 23.7987988 ,\n",
       "       23.83783784, 23.87687688, 23.91591592, 23.95495495, 23.99399399,\n",
       "       24.03303303, 24.07207207, 24.11111111, 24.15015015, 24.18918919,\n",
       "       24.22822823, 24.26726727, 24.30630631, 24.34534535, 24.38438438,\n",
       "       24.42342342, 24.46246246, 24.5015015 , 24.54054054, 24.57957958,\n",
       "       24.61861862, 24.65765766, 24.6966967 , 24.73573574, 24.77477477,\n",
       "       24.81381381, 24.85285285, 24.89189189, 24.93093093, 24.96996997,\n",
       "       25.00900901, 25.04804805, 25.08708709, 25.12612613, 25.16516517,\n",
       "       25.2042042 , 25.24324324, 25.28228228, 25.32132132, 25.36036036,\n",
       "       25.3993994 , 25.43843844, 25.47747748, 25.51651652, 25.55555556,\n",
       "       25.59459459, 25.63363363, 25.67267267, 25.71171171, 25.75075075,\n",
       "       25.78978979, 25.82882883, 25.86786787, 25.90690691, 25.94594595,\n",
       "       25.98498498, 26.02402402, 26.06306306, 26.1021021 , 26.14114114,\n",
       "       26.18018018, 26.21921922, 26.25825826, 26.2972973 , 26.33633634,\n",
       "       26.37537538, 26.41441441, 26.45345345, 26.49249249, 26.53153153,\n",
       "       26.57057057, 26.60960961, 26.64864865, 26.68768769, 26.72672673,\n",
       "       26.76576577, 26.8048048 , 26.84384384, 26.88288288, 26.92192192,\n",
       "       26.96096096, 27.        , 27.03903904, 27.07807808, 27.11711712,\n",
       "       27.15615616, 27.1951952 , 27.23423423, 27.27327327, 27.31231231,\n",
       "       27.35135135, 27.39039039, 27.42942943, 27.46846847, 27.50750751,\n",
       "       27.54654655, 27.58558559, 27.62462462, 27.66366366, 27.7027027 ,\n",
       "       27.74174174, 27.78078078, 27.81981982, 27.85885886, 27.8978979 ,\n",
       "       27.93693694, 27.97597598, 28.01501502, 28.05405405, 28.09309309,\n",
       "       28.13213213, 28.17117117, 28.21021021, 28.24924925, 28.28828829,\n",
       "       28.32732733, 28.36636637, 28.40540541, 28.44444444, 28.48348348,\n",
       "       28.52252252, 28.56156156, 28.6006006 , 28.63963964, 28.67867868,\n",
       "       28.71771772, 28.75675676, 28.7957958 , 28.83483483, 28.87387387,\n",
       "       28.91291291, 28.95195195, 28.99099099, 29.03003003, 29.06906907,\n",
       "       29.10810811, 29.14714715, 29.18618619, 29.22522523, 29.26426426,\n",
       "       29.3033033 , 29.34234234, 29.38138138, 29.42042042, 29.45945946,\n",
       "       29.4984985 , 29.53753754, 29.57657658, 29.61561562, 29.65465465,\n",
       "       29.69369369, 29.73273273, 29.77177177, 29.81081081, 29.84984985,\n",
       "       29.88888889, 29.92792793, 29.96696697, 30.00600601, 30.04504505,\n",
       "       30.08408408, 30.12312312, 30.16216216, 30.2012012 , 30.24024024,\n",
       "       30.27927928, 30.31831832, 30.35735736, 30.3963964 , 30.43543544,\n",
       "       30.47447447, 30.51351351, 30.55255255, 30.59159159, 30.63063063,\n",
       "       30.66966967, 30.70870871, 30.74774775, 30.78678679, 30.82582583,\n",
       "       30.86486486, 30.9039039 , 30.94294294, 30.98198198, 31.02102102,\n",
       "       31.06006006, 31.0990991 , 31.13813814, 31.17717718, 31.21621622,\n",
       "       31.25525526, 31.29429429, 31.33333333, 31.37237237, 31.41141141,\n",
       "       31.45045045, 31.48948949, 31.52852853, 31.56756757, 31.60660661,\n",
       "       31.64564565, 31.68468468, 31.72372372, 31.76276276, 31.8018018 ,\n",
       "       31.84084084, 31.87987988, 31.91891892, 31.95795796, 31.996997  ,\n",
       "       32.03603604, 32.07507508, 32.11411411, 32.15315315, 32.19219219,\n",
       "       32.23123123, 32.27027027, 32.30930931, 32.34834835, 32.38738739,\n",
       "       32.42642643, 32.46546547, 32.5045045 , 32.54354354, 32.58258258,\n",
       "       32.62162162, 32.66066066, 32.6996997 , 32.73873874, 32.77777778,\n",
       "       32.81681682, 32.85585586, 32.89489489, 32.93393393, 32.97297297,\n",
       "       33.01201201, 33.05105105, 33.09009009, 33.12912913, 33.16816817,\n",
       "       33.20720721, 33.24624625, 33.28528529, 33.32432432, 33.36336336,\n",
       "       33.4024024 , 33.44144144, 33.48048048, 33.51951952, 33.55855856,\n",
       "       33.5975976 , 33.63663664, 33.67567568, 33.71471471, 33.75375375,\n",
       "       33.79279279, 33.83183183, 33.87087087, 33.90990991, 33.94894895,\n",
       "       33.98798799, 34.02702703, 34.06606607, 34.10510511, 34.14414414,\n",
       "       34.18318318, 34.22222222, 34.26126126, 34.3003003 , 34.33933934,\n",
       "       34.37837838, 34.41741742, 34.45645646, 34.4954955 , 34.53453453,\n",
       "       34.57357357, 34.61261261, 34.65165165, 34.69069069, 34.72972973,\n",
       "       34.76876877, 34.80780781, 34.84684685, 34.88588589, 34.92492492,\n",
       "       34.96396396, 35.003003  , 35.04204204, 35.08108108, 35.12012012,\n",
       "       35.15915916, 35.1981982 , 35.23723724, 35.27627628, 35.31531532,\n",
       "       35.35435435, 35.39339339, 35.43243243, 35.47147147, 35.51051051,\n",
       "       35.54954955, 35.58858859, 35.62762763, 35.66666667, 35.70570571,\n",
       "       35.74474474, 35.78378378, 35.82282282, 35.86186186, 35.9009009 ,\n",
       "       35.93993994, 35.97897898, 36.01801802, 36.05705706, 36.0960961 ,\n",
       "       36.13513514, 36.17417417, 36.21321321, 36.25225225, 36.29129129,\n",
       "       36.33033033, 36.36936937, 36.40840841, 36.44744745, 36.48648649,\n",
       "       36.52552553, 36.56456456, 36.6036036 , 36.64264264, 36.68168168,\n",
       "       36.72072072, 36.75975976, 36.7987988 , 36.83783784, 36.87687688,\n",
       "       36.91591592, 36.95495495, 36.99399399, 37.03303303, 37.07207207,\n",
       "       37.11111111, 37.15015015, 37.18918919, 37.22822823, 37.26726727,\n",
       "       37.30630631, 37.34534535, 37.38438438, 37.42342342, 37.46246246,\n",
       "       37.5015015 , 37.54054054, 37.57957958, 37.61861862, 37.65765766,\n",
       "       37.6966967 , 37.73573574, 37.77477477, 37.81381381, 37.85285285,\n",
       "       37.89189189, 37.93093093, 37.96996997, 38.00900901, 38.04804805,\n",
       "       38.08708709, 38.12612613, 38.16516517, 38.2042042 , 38.24324324,\n",
       "       38.28228228, 38.32132132, 38.36036036, 38.3993994 , 38.43843844,\n",
       "       38.47747748, 38.51651652, 38.55555556, 38.59459459, 38.63363363,\n",
       "       38.67267267, 38.71171171, 38.75075075, 38.78978979, 38.82882883,\n",
       "       38.86786787, 38.90690691, 38.94594595, 38.98498498, 39.02402402,\n",
       "       39.06306306, 39.1021021 , 39.14114114, 39.18018018, 39.21921922,\n",
       "       39.25825826, 39.2972973 , 39.33633634, 39.37537538, 39.41441441,\n",
       "       39.45345345, 39.49249249, 39.53153153, 39.57057057, 39.60960961,\n",
       "       39.64864865, 39.68768769, 39.72672673, 39.76576577, 39.8048048 ,\n",
       "       39.84384384, 39.88288288, 39.92192192, 39.96096096, 40.        ])"
      ]
     },
     "execution_count": 104,
     "metadata": {},
     "output_type": "execute_result"
    }
   ],
   "source": [
    "# Create an array with 10 evenly spaced numbers between 1 and 100\n",
    "np.linspace(1, 100,10)"
   ]
  },
  {
   "cell_type": "markdown",
   "metadata": {},
   "source": [
    "## Extensions\n",
    "\n",
    "For more exercises, check out the [NumPy quickstart tutorial](https://numpy.org/doc/stable/user/quickstart.html). A good practice would be to read through it and for the parts you find interesting, add them into the end of this notebook.\n",
    "\n",
    "Pay particular attention to the section on broadcasting. And most importantly, get hands-on with the code as much as possible. If in dobut, run the code, see what it does.\n",
    "\n",
    "The next place you could go is the [Stack Overflow page for the top questions and answers for NumPy](https://stackoverflow.com/questions/tagged/numpy?sort=MostVotes&edited=true). Often, you'll find some of the most common and useful NumPy functions here. Don't forget to play around with the filters! You'll likely find something helpful here.\n",
    "\n",
    "Finally, as always, remember, the best way to learn something new is to try it. And try it relentlessly. If you get interested in some kind of NumPy function, asking yourself, \"I wonder if NumPy could do that?\", go and find out."
   ]
  }
 ],
 "metadata": {
  "kernelspec": {
   "display_name": "Python 3 (ipykernel)",
   "language": "python",
   "name": "python3"
  },
  "language_info": {
   "codemirror_mode": {
    "name": "ipython",
    "version": 3
   },
   "file_extension": ".py",
   "mimetype": "text/x-python",
   "name": "python",
   "nbconvert_exporter": "python",
   "pygments_lexer": "ipython3",
   "version": "3.12.3"
  }
 },
 "nbformat": 4,
 "nbformat_minor": 4
}
