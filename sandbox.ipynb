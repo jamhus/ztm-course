{
 "cells": [
  {
   "cell_type": "code",
   "execution_count": 1,
   "id": "39d5e2d9-f194-4e50-b589-f6c5a46a8c5e",
   "metadata": {},
   "outputs": [],
   "source": [
    "import numpy as np"
   ]
  },
  {
   "cell_type": "code",
   "execution_count": 2,
   "id": "db6f4d5a-dae6-4824-aecf-b171cff5a62c",
   "metadata": {},
   "outputs": [],
   "source": [
    "import pandas as pd"
   ]
  },
  {
   "cell_type": "code",
   "execution_count": 3,
   "id": "8a67bfb7-b0af-45cb-bca8-e690e6972b26",
   "metadata": {},
   "outputs": [],
   "source": [
    "arr1 = np.array([\n",
    "    [\n",
    "        [1,2,3],\n",
    "        [4,5,6],\n",
    "        [7,8,9]\n",
    "    ],\n",
    "    [\n",
    "        ['A','B','C'],\n",
    "        ['D','E','F'],\n",
    "        ['G','H','I'],\n",
    "\n",
    "    ]\n",
    "])"
   ]
  },
  {
   "cell_type": "code",
   "execution_count": 4,
   "id": "3bf4a498-e484-456c-8c09-7fed8f1f79b9",
   "metadata": {},
   "outputs": [
    {
     "data": {
      "text/plain": [
       "(2, 3, 3)"
      ]
     },
     "execution_count": 4,
     "metadata": {},
     "output_type": "execute_result"
    }
   ],
   "source": [
    "arr1.shape"
   ]
  },
  {
   "cell_type": "code",
   "execution_count": 9,
   "id": "3bb8c007-60d5-4b36-8b21-209c1080733f",
   "metadata": {},
   "outputs": [
    {
     "data": {
      "text/plain": [
       "array([[['1', '2'],\n",
       "        ['3', '4'],\n",
       "        ['5', '6']],\n",
       "\n",
       "       [['7', '8'],\n",
       "        ['9', 'A'],\n",
       "        ['B', 'C']],\n",
       "\n",
       "       [['D', 'E'],\n",
       "        ['F', 'G'],\n",
       "        ['H', 'I']]], dtype='<U11')"
      ]
     },
     "execution_count": 9,
     "metadata": {},
     "output_type": "execute_result"
    }
   ],
   "source": [
    "arr1.reshape(3,3,2)"
   ]
  },
  {
   "cell_type": "code",
   "execution_count": 10,
   "id": "10217b9b-87ee-4053-9355-86fcf61f9d18",
   "metadata": {},
   "outputs": [
    {
     "data": {
      "text/plain": [
       "array([[['1', '2', '3'],\n",
       "        ['4', '5', '6']],\n",
       "\n",
       "       [['7', '8', '9'],\n",
       "        ['A', 'B', 'C']],\n",
       "\n",
       "       [['D', 'E', 'F'],\n",
       "        ['G', 'H', 'I']]], dtype='<U11')"
      ]
     },
     "execution_count": 10,
     "metadata": {},
     "output_type": "execute_result"
    }
   ],
   "source": [
    "arr1.reshape(3,2,3)"
   ]
  },
  {
   "cell_type": "code",
   "execution_count": null,
   "id": "1d261040-358f-4cb6-99ba-f425f8a804c0",
   "metadata": {},
   "outputs": [],
   "source": []
  }
 ],
 "metadata": {
  "kernelspec": {
   "display_name": "Python 3 (ipykernel)",
   "language": "python",
   "name": "python3"
  },
  "language_info": {
   "codemirror_mode": {
    "name": "ipython",
    "version": 3
   },
   "file_extension": ".py",
   "mimetype": "text/x-python",
   "name": "python",
   "nbconvert_exporter": "python",
   "pygments_lexer": "ipython3",
   "version": "3.12.3"
  }
 },
 "nbformat": 4,
 "nbformat_minor": 5
}
